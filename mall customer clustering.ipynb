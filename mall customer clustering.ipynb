{
 "cells": [
  {
   "cell_type": "code",
   "execution_count": 25,
   "metadata": {},
   "outputs": [],
   "source": [
    "import pandas as pd\n",
    "from sklearn.preprocessing import LabelEncoder\n",
    "import matplotlib as plt"
   ]
  },
  {
   "cell_type": "code",
   "execution_count": 26,
   "metadata": {},
   "outputs": [
    {
     "data": {
      "text/html": [
       "<div>\n",
       "<style scoped>\n",
       "    .dataframe tbody tr th:only-of-type {\n",
       "        vertical-align: middle;\n",
       "    }\n",
       "\n",
       "    .dataframe tbody tr th {\n",
       "        vertical-align: top;\n",
       "    }\n",
       "\n",
       "    .dataframe thead th {\n",
       "        text-align: right;\n",
       "    }\n",
       "</style>\n",
       "<table border=\"1\" class=\"dataframe\">\n",
       "  <thead>\n",
       "    <tr style=\"text-align: right;\">\n",
       "      <th></th>\n",
       "      <th>CustomerID</th>\n",
       "      <th>Genre</th>\n",
       "      <th>Age</th>\n",
       "      <th>Annual Income (k$)</th>\n",
       "      <th>Spending Score (1-100)</th>\n",
       "    </tr>\n",
       "  </thead>\n",
       "  <tbody>\n",
       "    <tr>\n",
       "      <th>0</th>\n",
       "      <td>1</td>\n",
       "      <td>Male</td>\n",
       "      <td>19</td>\n",
       "      <td>15</td>\n",
       "      <td>39</td>\n",
       "    </tr>\n",
       "    <tr>\n",
       "      <th>1</th>\n",
       "      <td>2</td>\n",
       "      <td>Male</td>\n",
       "      <td>21</td>\n",
       "      <td>15</td>\n",
       "      <td>81</td>\n",
       "    </tr>\n",
       "    <tr>\n",
       "      <th>2</th>\n",
       "      <td>3</td>\n",
       "      <td>Female</td>\n",
       "      <td>20</td>\n",
       "      <td>16</td>\n",
       "      <td>6</td>\n",
       "    </tr>\n",
       "    <tr>\n",
       "      <th>3</th>\n",
       "      <td>4</td>\n",
       "      <td>Female</td>\n",
       "      <td>23</td>\n",
       "      <td>16</td>\n",
       "      <td>77</td>\n",
       "    </tr>\n",
       "    <tr>\n",
       "      <th>4</th>\n",
       "      <td>5</td>\n",
       "      <td>Female</td>\n",
       "      <td>31</td>\n",
       "      <td>17</td>\n",
       "      <td>40</td>\n",
       "    </tr>\n",
       "    <tr>\n",
       "      <th>5</th>\n",
       "      <td>6</td>\n",
       "      <td>Female</td>\n",
       "      <td>22</td>\n",
       "      <td>17</td>\n",
       "      <td>76</td>\n",
       "    </tr>\n",
       "    <tr>\n",
       "      <th>6</th>\n",
       "      <td>7</td>\n",
       "      <td>Female</td>\n",
       "      <td>35</td>\n",
       "      <td>18</td>\n",
       "      <td>6</td>\n",
       "    </tr>\n",
       "    <tr>\n",
       "      <th>7</th>\n",
       "      <td>8</td>\n",
       "      <td>Female</td>\n",
       "      <td>23</td>\n",
       "      <td>18</td>\n",
       "      <td>94</td>\n",
       "    </tr>\n",
       "    <tr>\n",
       "      <th>8</th>\n",
       "      <td>9</td>\n",
       "      <td>Male</td>\n",
       "      <td>64</td>\n",
       "      <td>19</td>\n",
       "      <td>3</td>\n",
       "    </tr>\n",
       "    <tr>\n",
       "      <th>9</th>\n",
       "      <td>10</td>\n",
       "      <td>Female</td>\n",
       "      <td>30</td>\n",
       "      <td>19</td>\n",
       "      <td>72</td>\n",
       "    </tr>\n",
       "    <tr>\n",
       "      <th>10</th>\n",
       "      <td>11</td>\n",
       "      <td>Male</td>\n",
       "      <td>67</td>\n",
       "      <td>19</td>\n",
       "      <td>14</td>\n",
       "    </tr>\n",
       "    <tr>\n",
       "      <th>11</th>\n",
       "      <td>12</td>\n",
       "      <td>Female</td>\n",
       "      <td>35</td>\n",
       "      <td>19</td>\n",
       "      <td>99</td>\n",
       "    </tr>\n",
       "    <tr>\n",
       "      <th>12</th>\n",
       "      <td>13</td>\n",
       "      <td>Female</td>\n",
       "      <td>58</td>\n",
       "      <td>20</td>\n",
       "      <td>15</td>\n",
       "    </tr>\n",
       "    <tr>\n",
       "      <th>13</th>\n",
       "      <td>14</td>\n",
       "      <td>Female</td>\n",
       "      <td>24</td>\n",
       "      <td>20</td>\n",
       "      <td>77</td>\n",
       "    </tr>\n",
       "    <tr>\n",
       "      <th>14</th>\n",
       "      <td>15</td>\n",
       "      <td>Male</td>\n",
       "      <td>37</td>\n",
       "      <td>20</td>\n",
       "      <td>13</td>\n",
       "    </tr>\n",
       "    <tr>\n",
       "      <th>15</th>\n",
       "      <td>16</td>\n",
       "      <td>Male</td>\n",
       "      <td>22</td>\n",
       "      <td>20</td>\n",
       "      <td>79</td>\n",
       "    </tr>\n",
       "    <tr>\n",
       "      <th>16</th>\n",
       "      <td>17</td>\n",
       "      <td>Female</td>\n",
       "      <td>35</td>\n",
       "      <td>21</td>\n",
       "      <td>35</td>\n",
       "    </tr>\n",
       "    <tr>\n",
       "      <th>17</th>\n",
       "      <td>18</td>\n",
       "      <td>Male</td>\n",
       "      <td>20</td>\n",
       "      <td>21</td>\n",
       "      <td>66</td>\n",
       "    </tr>\n",
       "    <tr>\n",
       "      <th>18</th>\n",
       "      <td>19</td>\n",
       "      <td>Male</td>\n",
       "      <td>52</td>\n",
       "      <td>23</td>\n",
       "      <td>29</td>\n",
       "    </tr>\n",
       "    <tr>\n",
       "      <th>19</th>\n",
       "      <td>20</td>\n",
       "      <td>Female</td>\n",
       "      <td>35</td>\n",
       "      <td>23</td>\n",
       "      <td>98</td>\n",
       "    </tr>\n",
       "  </tbody>\n",
       "</table>\n",
       "</div>"
      ],
      "text/plain": [
       "    CustomerID   Genre  Age  Annual Income (k$)  Spending Score (1-100)\n",
       "0            1    Male   19                  15                      39\n",
       "1            2    Male   21                  15                      81\n",
       "2            3  Female   20                  16                       6\n",
       "3            4  Female   23                  16                      77\n",
       "4            5  Female   31                  17                      40\n",
       "5            6  Female   22                  17                      76\n",
       "6            7  Female   35                  18                       6\n",
       "7            8  Female   23                  18                      94\n",
       "8            9    Male   64                  19                       3\n",
       "9           10  Female   30                  19                      72\n",
       "10          11    Male   67                  19                      14\n",
       "11          12  Female   35                  19                      99\n",
       "12          13  Female   58                  20                      15\n",
       "13          14  Female   24                  20                      77\n",
       "14          15    Male   37                  20                      13\n",
       "15          16    Male   22                  20                      79\n",
       "16          17  Female   35                  21                      35\n",
       "17          18    Male   20                  21                      66\n",
       "18          19    Male   52                  23                      29\n",
       "19          20  Female   35                  23                      98"
      ]
     },
     "execution_count": 26,
     "metadata": {},
     "output_type": "execute_result"
    }
   ],
   "source": [
    "data = pd.read_csv('Mall_Customers.csv')\n",
    "data.head(20)"
   ]
  },
  {
   "cell_type": "code",
   "execution_count": 27,
   "metadata": {},
   "outputs": [
    {
     "name": "stdout",
     "output_type": "stream",
     "text": [
      "<class 'pandas.core.frame.DataFrame'>\n",
      "RangeIndex: 200 entries, 0 to 199\n",
      "Data columns (total 5 columns):\n",
      " #   Column                  Non-Null Count  Dtype \n",
      "---  ------                  --------------  ----- \n",
      " 0   CustomerID              200 non-null    int64 \n",
      " 1   Genre                   200 non-null    object\n",
      " 2   Age                     200 non-null    int64 \n",
      " 3   Annual Income (k$)      200 non-null    int64 \n",
      " 4   Spending Score (1-100)  200 non-null    int64 \n",
      "dtypes: int64(4), object(1)\n",
      "memory usage: 7.9+ KB\n"
     ]
    }
   ],
   "source": [
    "data.info()"
   ]
  },
  {
   "cell_type": "code",
   "execution_count": 28,
   "metadata": {},
   "outputs": [
    {
     "name": "stdout",
     "output_type": "stream",
     "text": [
      "     CustomerID  Genre    Age  Annual Income (k$)  Spending Score (1-100)\n",
      "0         False  False  False               False                   False\n",
      "1         False  False  False               False                   False\n",
      "2         False  False  False               False                   False\n",
      "3         False  False  False               False                   False\n",
      "4         False  False  False               False                   False\n",
      "..          ...    ...    ...                 ...                     ...\n",
      "195       False  False  False               False                   False\n",
      "196       False  False  False               False                   False\n",
      "197       False  False  False               False                   False\n",
      "198       False  False  False               False                   False\n",
      "199       False  False  False               False                   False\n",
      "\n",
      "[200 rows x 5 columns]\n"
     ]
    }
   ],
   "source": [
    "misssing_values = data.isnull()\n",
    "print(misssing_values)"
   ]
  },
  {
   "cell_type": "code",
   "execution_count": 29,
   "metadata": {},
   "outputs": [
    {
     "name": "stdout",
     "output_type": "stream",
     "text": [
      "0      False\n",
      "1      False\n",
      "2      False\n",
      "3      False\n",
      "4      False\n",
      "       ...  \n",
      "195    False\n",
      "196    False\n",
      "197    False\n",
      "198    False\n",
      "199    False\n",
      "Length: 200, dtype: bool\n"
     ]
    }
   ],
   "source": [
    "duplicates = data.duplicated()\n",
    "print(duplicates)"
   ]
  },
  {
   "cell_type": "code",
   "execution_count": 32,
   "metadata": {},
   "outputs": [
    {
     "name": "stdout",
     "output_type": "stream",
     "text": [
      "     CustomerID  Genre  Age  Annual Income (k$)  Spending Score (1-100)\n",
      "0             1      1   19                  15                      39\n",
      "1             2      1   21                  15                      81\n",
      "2             3      0   20                  16                       6\n",
      "3             4      0   23                  16                      77\n",
      "4             5      0   31                  17                      40\n",
      "..          ...    ...  ...                 ...                     ...\n",
      "195         196      0   35                 120                      79\n",
      "196         197      0   45                 126                      28\n",
      "197         198      1   32                 126                      74\n",
      "198         199      1   32                 137                      18\n",
      "199         200      1   30                 137                      83\n",
      "\n",
      "[200 rows x 5 columns]\n"
     ]
    }
   ],
   "source": [
    "#Here i am performing one-hot encoding technique in my categorical data colume i.e. \"genre\"\n",
    "\n",
    "df = pd.DataFrame(data)\n",
    "\n",
    "label_encoder = LabelEncoder()\n",
    "\n",
    "for column in df.columns:\n",
    "    if df[column].dtype == 'object':\n",
    "        df[column] = label_encoder.fit_transform(df[column])\n",
    "\n",
    "# Display the encoded DataFrame\n",
    "print(df)\n",
    " "
   ]
  },
  {
   "cell_type": "code",
   "execution_count": 33,
   "metadata": {},
   "outputs": [
    {
     "data": {
      "image/png": "[encoded data removed]",
      "text/plain": [
       "<Figure size 800x600 with 1 Axes>"
      ]
     },
     "metadata": {},
     "output_type": "display_data"
    },
    {
     "name": "stdout",
     "output_type": "stream",
     "text": [
      "count    200.000000\n",
      "mean     100.500000\n",
      "std       57.879185\n",
      "min        1.000000\n",
      "25%       50.750000\n",
      "50%      100.500000\n",
      "75%      150.250000\n",
      "max      200.000000\n",
      "Name: CustomerID, dtype: float64\n",
      "Potential outliers in CustomerID:\n",
      "Empty DataFrame\n",
      "Columns: [CustomerID, Genre, Age, Annual Income (k$), Spending Score (1-100)]\n",
      "Index: []\n"
     ]
    },
    {
     "data": {
      "image/png": "[encoded data removed]",
      "text/plain": [
       "<Figure size 800x600 with 1 Axes>"
      ]
     },
     "metadata": {},
     "output_type": "display_data"
    },
    {
     "name": "stdout",
     "output_type": "stream",
     "text": [
      "count    200.000000\n",
      "mean      38.850000\n",
      "std       13.969007\n",
      "min       18.000000\n",
      "25%       28.750000\n",
      "50%       36.000000\n",
      "75%       49.000000\n",
      "max       70.000000\n",
      "Name: Age, dtype: float64\n",
      "Potential outliers in Age:\n",
      "Empty DataFrame\n",
      "Columns: [CustomerID, Genre, Age, Annual Income (k$), Spending Score (1-100)]\n",
      "Index: []\n"
     ]
    },
    {
     "data": {
      "image/png": "[encoded data removed]",
      "text/plain": [
       "<Figure size 800x600 with 1 Axes>"
      ]
     },
     "metadata": {},
     "output_type": "display_data"
    },
    {
     "name": "stdout",
     "output_type": "stream",
     "text": [
      "count    200.000000\n",
      "mean      60.560000\n",
      "std       26.264721\n",
      "min       15.000000\n",
      "25%       41.500000\n",
      "50%       61.500000\n",
      "75%       78.000000\n",
      "max      137.000000\n",
      "Name: Annual Income (k$), dtype: float64\n",
      "Potential outliers in Annual Income (k$):\n",
      "     CustomerID Genre  Age  Annual Income (k$)  Spending Score (1-100)\n",
      "198         199  Male   32                 137                      18\n",
      "199         200  Male   30                 137                      83\n"
     ]
    },
    {
     "data": {
      "image/png": "[encoded data removed]",
      "text/plain": [
       "<Figure size 800x600 with 1 Axes>"
      ]
     },
     "metadata": {},
     "output_type": "display_data"
    },
    {
     "name": "stdout",
     "output_type": "stream",
     "text": [
      "count    200.000000\n",
      "mean      50.200000\n",
      "std       25.823522\n",
      "min        1.000000\n",
      "25%       34.750000\n",
      "50%       50.000000\n",
      "75%       73.000000\n",
      "max       99.000000\n",
      "Name: Spending Score (1-100), dtype: float64\n",
      "Potential outliers in Spending Score (1-100):\n",
      "Empty DataFrame\n",
      "Columns: [CustomerID, Genre, Age, Annual Income (k$), Spending Score (1-100)]\n",
      "Index: []\n"
     ]
    }
   ],
   "source": [
    "#detecting outliers\n",
    "import pandas as pd\n",
    "import matplotlib.pyplot as plt\n",
    "\n",
    "# Sample dataset (replace with your own dataset)\n",
    "\n",
    "# Create a DataFrame from the data\n",
    "df = pd.DataFrame(data)\n",
    "\n",
    "# Iterate over numeric columns\n",
    "for column_name in df.select_dtypes(include=['number']).columns:\n",
    "    # To visualize potential outliers\n",
    "    plt.figure(figsize=(8, 6))\n",
    "    plt.boxplot(df[column_name], vert=False)\n",
    "    plt.title(f'Box Plot for {column_name}')\n",
    "    plt.show()\n",
    "\n",
    "    summary_stats = df[column_name].describe()\n",
    "    print(summary_stats)\n",
    "\n",
    "    # Function to detect potential outliers using the IQR method\n",
    "    def detect_outliers_iqr(data):\n",
    "        Q1 = data.quantile(0.25)\n",
    "        Q3 = data.quantile(0.75)\n",
    "        IQR = Q3 - Q1\n",
    "        lower_bound = Q1 - 1.5 * IQR\n",
    "        upper_bound = Q3 + 1.5 * IQR\n",
    "        return (data < lower_bound) | (data > upper_bound)\n",
    "\n",
    "    # Detect and print potential outliers using the IQR method\n",
    "    outliers = detect_outliers_iqr(df[column_name])\n",
    "    potential_outliers = df[outliers]\n",
    "    print(f\"Potential outliers in {column_name}:\")\n",
    "    print(potential_outliers)\n"
   ]
  }
 ],
 "metadata": {
  "kernelspec": {
   "display_name": "Python 3",
   "language": "python",
   "name": "python3"
  },
  "language_info": {
   "codemirror_mode": {
    "name": "ipython",
    "version": 3
   },
   "file_extension": ".py",
   "mimetype": "text/x-python",
   "name": "python",
   "nbconvert_exporter": "python",
   "pygments_lexer": "ipython3",
   "version": "3.11.4"
  },
  "orig_nbformat": 4
 },
 "nbformat": 4,
 "nbformat_minor": 2
}
